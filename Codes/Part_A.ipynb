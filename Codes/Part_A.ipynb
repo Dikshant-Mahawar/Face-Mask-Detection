{
  "nbformat": 4,
  "nbformat_minor": 0,
  "metadata": {
    "colab": {
      "provenance": []
    },
    "kernelspec": {
      "name": "python3",
      "display_name": "Python 3"
    },
    "language_info": {
      "name": "python"
    }
  },
  "cells": [
    {
      "cell_type": "code",
      "source": [
        "import zipfile\n",
        "import os\n",
        "\n",
        "# Define paths\n",
        "zip_path = \"/content/dataset.zip\"\n",
        "extract_path = \"/content/extracted_files\"\n",
        "\n",
        "# Extract ZIP file\n",
        "with zipfile.ZipFile(zip_path, 'r') as zip_ref:\n",
        "    zip_ref.extractall(extract_path)\n",
        "\n",
        "print(f\"Extracted to: {extract_path}\")"
      ],
      "metadata": {
        "colab": {
          "base_uri": "https://localhost:8080/"
        },
        "id": "e46VJEwrbgEu",
        "outputId": "cf2f83be-d187-4dd9-ef42-78101231ac6b"
      },
      "execution_count": 2,
      "outputs": [
        {
          "output_type": "stream",
          "name": "stdout",
          "text": [
            "Extracted to: /content/extracted_files\n"
          ]
        }
      ]
    },
    {
      "cell_type": "markdown",
      "source": [
        "## Extracting Files"
      ],
      "metadata": {
        "id": "GyvAhp6Fb3Gl"
      }
    },
    {
      "cell_type": "code",
      "source": [
        "with_mask_dir = '/content/extracted_files/dataset/with_mask'\n",
        "without_mask_dir = '/content/extracted_files/dataset/without_mask'"
      ],
      "metadata": {
        "id": "im8xAjZFbmUr"
      },
      "execution_count": 4,
      "outputs": []
    },
    {
      "cell_type": "code",
      "source": [
        "pip install -r requirements.txt"
      ],
      "metadata": {
        "colab": {
          "base_uri": "https://localhost:8080/"
        },
        "id": "zWPPQWXZcOPt",
        "outputId": "0e2924df-bf2b-4254-e948-35458ae92a2b"
      },
      "execution_count": 15,
      "outputs": [
        {
          "output_type": "stream",
          "name": "stdout",
          "text": [
            "Requirement already satisfied: numpy in /usr/local/lib/python3.11/dist-packages (from -r requirements.txt (line 1)) (2.0.2)\n",
            "Requirement already satisfied: opencv-python in /usr/local/lib/python3.11/dist-packages (from -r requirements.txt (line 2)) (4.11.0.86)\n",
            "Requirement already satisfied: scikit-image in /usr/local/lib/python3.11/dist-packages (from -r requirements.txt (line 3)) (0.25.2)\n",
            "Requirement already satisfied: scikit-learn in /usr/local/lib/python3.11/dist-packages (from -r requirements.txt (line 4)) (1.6.1)\n",
            "Requirement already satisfied: scipy in /usr/local/lib/python3.11/dist-packages (from -r requirements.txt (line 5)) (1.14.1)\n",
            "Requirement already satisfied: tensorflow in /usr/local/lib/python3.11/dist-packages (from -r requirements.txt (line 6)) (2.18.0)\n",
            "Requirement already satisfied: networkx>=3.0 in /usr/local/lib/python3.11/dist-packages (from scikit-image->-r requirements.txt (line 3)) (3.4.2)\n",
            "Requirement already satisfied: pillow>=10.1 in /usr/local/lib/python3.11/dist-packages (from scikit-image->-r requirements.txt (line 3)) (11.1.0)\n",
            "Requirement already satisfied: imageio!=2.35.0,>=2.33 in /usr/local/lib/python3.11/dist-packages (from scikit-image->-r requirements.txt (line 3)) (2.37.0)\n",
            "Requirement already satisfied: tifffile>=2022.8.12 in /usr/local/lib/python3.11/dist-packages (from scikit-image->-r requirements.txt (line 3)) (2025.3.13)\n",
            "Requirement already satisfied: packaging>=21 in /usr/local/lib/python3.11/dist-packages (from scikit-image->-r requirements.txt (line 3)) (24.2)\n",
            "Requirement already satisfied: lazy-loader>=0.4 in /usr/local/lib/python3.11/dist-packages (from scikit-image->-r requirements.txt (line 3)) (0.4)\n",
            "Requirement already satisfied: joblib>=1.2.0 in /usr/local/lib/python3.11/dist-packages (from scikit-learn->-r requirements.txt (line 4)) (1.4.2)\n",
            "Requirement already satisfied: threadpoolctl>=3.1.0 in /usr/local/lib/python3.11/dist-packages (from scikit-learn->-r requirements.txt (line 4)) (3.6.0)\n",
            "Requirement already satisfied: absl-py>=1.0.0 in /usr/local/lib/python3.11/dist-packages (from tensorflow->-r requirements.txt (line 6)) (1.4.0)\n",
            "Requirement already satisfied: astunparse>=1.6.0 in /usr/local/lib/python3.11/dist-packages (from tensorflow->-r requirements.txt (line 6)) (1.6.3)\n",
            "Requirement already satisfied: flatbuffers>=24.3.25 in /usr/local/lib/python3.11/dist-packages (from tensorflow->-r requirements.txt (line 6)) (25.2.10)\n",
            "Requirement already satisfied: gast!=0.5.0,!=0.5.1,!=0.5.2,>=0.2.1 in /usr/local/lib/python3.11/dist-packages (from tensorflow->-r requirements.txt (line 6)) (0.6.0)\n",
            "Requirement already satisfied: google-pasta>=0.1.1 in /usr/local/lib/python3.11/dist-packages (from tensorflow->-r requirements.txt (line 6)) (0.2.0)\n",
            "Requirement already satisfied: libclang>=13.0.0 in /usr/local/lib/python3.11/dist-packages (from tensorflow->-r requirements.txt (line 6)) (18.1.1)\n",
            "Requirement already satisfied: opt-einsum>=2.3.2 in /usr/local/lib/python3.11/dist-packages (from tensorflow->-r requirements.txt (line 6)) (3.4.0)\n",
            "Requirement already satisfied: protobuf!=4.21.0,!=4.21.1,!=4.21.2,!=4.21.3,!=4.21.4,!=4.21.5,<6.0.0dev,>=3.20.3 in /usr/local/lib/python3.11/dist-packages (from tensorflow->-r requirements.txt (line 6)) (5.29.3)\n",
            "Requirement already satisfied: requests<3,>=2.21.0 in /usr/local/lib/python3.11/dist-packages (from tensorflow->-r requirements.txt (line 6)) (2.32.3)\n",
            "Requirement already satisfied: setuptools in /usr/local/lib/python3.11/dist-packages (from tensorflow->-r requirements.txt (line 6)) (75.1.0)\n",
            "Requirement already satisfied: six>=1.12.0 in /usr/local/lib/python3.11/dist-packages (from tensorflow->-r requirements.txt (line 6)) (1.17.0)\n",
            "Requirement already satisfied: termcolor>=1.1.0 in /usr/local/lib/python3.11/dist-packages (from tensorflow->-r requirements.txt (line 6)) (2.5.0)\n",
            "Requirement already satisfied: typing-extensions>=3.6.6 in /usr/local/lib/python3.11/dist-packages (from tensorflow->-r requirements.txt (line 6)) (4.12.2)\n",
            "Requirement already satisfied: wrapt>=1.11.0 in /usr/local/lib/python3.11/dist-packages (from tensorflow->-r requirements.txt (line 6)) (1.17.2)\n",
            "Requirement already satisfied: grpcio<2.0,>=1.24.3 in /usr/local/lib/python3.11/dist-packages (from tensorflow->-r requirements.txt (line 6)) (1.71.0)\n",
            "Requirement already satisfied: tensorboard<2.19,>=2.18 in /usr/local/lib/python3.11/dist-packages (from tensorflow->-r requirements.txt (line 6)) (2.18.0)\n",
            "Requirement already satisfied: keras>=3.5.0 in /usr/local/lib/python3.11/dist-packages (from tensorflow->-r requirements.txt (line 6)) (3.8.0)\n",
            "Requirement already satisfied: h5py>=3.11.0 in /usr/local/lib/python3.11/dist-packages (from tensorflow->-r requirements.txt (line 6)) (3.13.0)\n",
            "Requirement already satisfied: ml-dtypes<0.5.0,>=0.4.0 in /usr/local/lib/python3.11/dist-packages (from tensorflow->-r requirements.txt (line 6)) (0.4.1)\n",
            "Requirement already satisfied: tensorflow-io-gcs-filesystem>=0.23.1 in /usr/local/lib/python3.11/dist-packages (from tensorflow->-r requirements.txt (line 6)) (0.37.1)\n",
            "Requirement already satisfied: wheel<1.0,>=0.23.0 in /usr/local/lib/python3.11/dist-packages (from astunparse>=1.6.0->tensorflow->-r requirements.txt (line 6)) (0.45.1)\n",
            "Requirement already satisfied: rich in /usr/local/lib/python3.11/dist-packages (from keras>=3.5.0->tensorflow->-r requirements.txt (line 6)) (13.9.4)\n",
            "Requirement already satisfied: namex in /usr/local/lib/python3.11/dist-packages (from keras>=3.5.0->tensorflow->-r requirements.txt (line 6)) (0.0.8)\n",
            "Requirement already satisfied: optree in /usr/local/lib/python3.11/dist-packages (from keras>=3.5.0->tensorflow->-r requirements.txt (line 6)) (0.14.1)\n",
            "Requirement already satisfied: charset-normalizer<4,>=2 in /usr/local/lib/python3.11/dist-packages (from requests<3,>=2.21.0->tensorflow->-r requirements.txt (line 6)) (3.4.1)\n",
            "Requirement already satisfied: idna<4,>=2.5 in /usr/local/lib/python3.11/dist-packages (from requests<3,>=2.21.0->tensorflow->-r requirements.txt (line 6)) (3.10)\n",
            "Requirement already satisfied: urllib3<3,>=1.21.1 in /usr/local/lib/python3.11/dist-packages (from requests<3,>=2.21.0->tensorflow->-r requirements.txt (line 6)) (2.3.0)\n",
            "Requirement already satisfied: certifi>=2017.4.17 in /usr/local/lib/python3.11/dist-packages (from requests<3,>=2.21.0->tensorflow->-r requirements.txt (line 6)) (2025.1.31)\n",
            "Requirement already satisfied: markdown>=2.6.8 in /usr/local/lib/python3.11/dist-packages (from tensorboard<2.19,>=2.18->tensorflow->-r requirements.txt (line 6)) (3.7)\n",
            "Requirement already satisfied: tensorboard-data-server<0.8.0,>=0.7.0 in /usr/local/lib/python3.11/dist-packages (from tensorboard<2.19,>=2.18->tensorflow->-r requirements.txt (line 6)) (0.7.2)\n",
            "Requirement already satisfied: werkzeug>=1.0.1 in /usr/local/lib/python3.11/dist-packages (from tensorboard<2.19,>=2.18->tensorflow->-r requirements.txt (line 6)) (3.1.3)\n",
            "Requirement already satisfied: MarkupSafe>=2.1.1 in /usr/local/lib/python3.11/dist-packages (from werkzeug>=1.0.1->tensorboard<2.19,>=2.18->tensorflow->-r requirements.txt (line 6)) (3.0.2)\n",
            "Requirement already satisfied: markdown-it-py>=2.2.0 in /usr/local/lib/python3.11/dist-packages (from rich->keras>=3.5.0->tensorflow->-r requirements.txt (line 6)) (3.0.0)\n",
            "Requirement already satisfied: pygments<3.0.0,>=2.13.0 in /usr/local/lib/python3.11/dist-packages (from rich->keras>=3.5.0->tensorflow->-r requirements.txt (line 6)) (2.18.0)\n",
            "Requirement already satisfied: mdurl~=0.1 in /usr/local/lib/python3.11/dist-packages (from markdown-it-py>=2.2.0->rich->keras>=3.5.0->tensorflow->-r requirements.txt (line 6)) (0.1.2)\n"
          ]
        }
      ]
    },
    {
      "cell_type": "markdown",
      "source": [
        "# SVM"
      ],
      "metadata": {
        "id": "U_N1bIYidZuT"
      }
    },
    {
      "cell_type": "code",
      "source": [
        "import os\n",
        "import cv2\n",
        "import numpy as np\n",
        "from skimage.feature import hog, local_binary_pattern\n",
        "from sklearn.svm import SVC\n",
        "from sklearn.ensemble import RandomForestClassifier\n",
        "from sklearn.preprocessing import StandardScaler\n",
        "from sklearn.metrics import accuracy_score\n",
        "from sklearn.metrics import classification_report, confusion_matrix\n",
        "from sklearn.model_selection import train_test_split, GridSearchCV , RandomizedSearchCV\n",
        "from scipy.stats import randint\n",
        "from tensorflow.keras.models import Sequential\n",
        "from tensorflow.keras.layers import Dense, Dropout\n",
        "from tensorflow.keras.utils import to_categorical\n",
        "from tensorflow.keras.metrics import Precision, Recall, AUC"
      ],
      "metadata": {
        "id": "T8BotmjwdDNr"
      },
      "execution_count": 22,
      "outputs": []
    },
    {
      "cell_type": "code",
      "source": [
        "# Parameters for LBP\n",
        "radius = 1\n",
        "n_points = 8 * radius\n",
        "METHOD = 'uniform'\n",
        "\n",
        "# Initialize lists\n",
        "features = []\n",
        "labels = []\n",
        "\n",
        "# Function to extract HOG features\n",
        "def extract_hog_features(image):\n",
        "    \"\"\"\n",
        "    Extract Histogram of Oriented Gradients (HOG) features from an image.\n",
        "    \"\"\"\n",
        "    # Resize image\n",
        "    image = cv2.resize(image, (128, 128))\n",
        "    # Convert to grayscale\n",
        "    gray_image = cv2.cvtColor(image, cv2.COLOR_BGR2GRAY)\n",
        "    # Extract HOG features\n",
        "    hog_features = hog(gray_image, orientations=9, pixels_per_cell=(8, 8),\n",
        "                       cells_per_block=(2, 2), block_norm='L2-Hys', visualize=False)\n",
        "    return hog_features\n",
        "\n",
        "# Function to extract LBP features\n",
        "def extract_lbp_features(image, radius=1, n_points=8, method='uniform'):\n",
        "    \"\"\"\n",
        "    Extract Local Binary Pattern (LBP) features from an image.\n",
        "    \"\"\"\n",
        "    # Resize image\n",
        "    image = cv2.resize(image, (128, 128))\n",
        "    # Convert to grayscale\n",
        "    gray_image = cv2.cvtColor(image, cv2.COLOR_BGR2GRAY)\n",
        "    # Extract LBP features\n",
        "    lbp = local_binary_pattern(gray_image, n_points, radius, method)\n",
        "    # Compute histogram\n",
        "    (hist, _) = np.histogram(lbp.ravel(),\n",
        "                             bins=np.arange(0, n_points + 3),\n",
        "                             range=(0, n_points + 2))\n",
        "    # Normalize the histogram\n",
        "    hist = hist.astype(\"float\")\n",
        "    hist /= (hist.sum() + 1e-6)\n",
        "    return hist\n",
        "\n",
        "# Load images and extract features\n",
        "for category, label in [(with_mask_dir, 1), (without_mask_dir, 0)]:\n",
        "    for filename in os.listdir(category):\n",
        "        img_path = os.path.join(category, filename)\n",
        "        image = cv2.imread(img_path)\n",
        "        if image is not None:\n",
        "            hog_features = extract_hog_features(image)\n",
        "            lbp_features = extract_lbp_features(image, radius, n_points, METHOD)\n",
        "            # Concatenate HOG and LBP features\n",
        "            combined_features = np.hstack((hog_features, lbp_features))\n",
        "            features.append(combined_features)\n",
        "            labels.append(label)\n",
        "\n",
        "# Convert to numpy arrays\n",
        "features = np.array(features)\n",
        "labels = np.array(labels)\n",
        "\n",
        "# Standardize features\n",
        "scaler = StandardScaler()\n",
        "features = scaler.fit_transform(features)\n",
        "\n",
        "# Split data with stratification\n",
        "X_train, X_test, y_train, y_test = train_test_split(features, labels, test_size=0.2, random_state=42, stratify=labels)\n",
        "\n",
        "# Initialize SVM classifier\n",
        "svm = SVC()\n",
        "\n",
        "# Define parameter grid for GridSearchCV\n",
        "param_grid = {\n",
        "    'C': [0.1, 1, 10],       # Regularization parameter\n",
        "    'kernel': ['linear', 'rbf']   # Kernel type\n",
        "}\n",
        "\n",
        "# Initialize GridSearchCV\n",
        "grid_search = GridSearchCV(svm, param_grid, cv=5, scoring='accuracy', n_jobs=-1)\n",
        "\n",
        "# Train classifier with grid search\n",
        "grid_search.fit(X_train, y_train)\n",
        "\n",
        "# Best parameters from grid search\n",
        "best_params = grid_search.best_params_\n",
        "print(f'Best Parameters: {best_params}')\n",
        "\n",
        "# Predict and evaluate with the best estimator\n",
        "best_svm = grid_search.best_estimator_\n",
        "train_predictions = best_svm.predict(X_train)\n",
        "test_predictions = best_svm.predict(X_test)\n",
        "\n",
        "train_accuracy = accuracy_score(y_train, train_predictions)\n",
        "test_accuracy = accuracy_score(y_test, test_predictions)\n",
        "\n",
        "print(f'Training Accuracy: {train_accuracy * 100:.2f}%')\n",
        "print(f'Testing Accuracy: {test_accuracy * 100:.2f}%')\n"
      ],
      "metadata": {
        "colab": {
          "base_uri": "https://localhost:8080/"
        },
        "id": "8VTnai2GdbkF",
        "outputId": "0bbbf1d2-82a2-45f0-e60c-3ac142dc631d"
      },
      "execution_count": 10,
      "outputs": [
        {
          "output_type": "stream",
          "name": "stdout",
          "text": [
            "Best Parameters: {'C': 10, 'kernel': 'rbf'}\n",
            "Training Accuracy: 100.00%\n",
            "Testing Accuracy: 94.63%\n"
          ]
        }
      ]
    },
    {
      "cell_type": "code",
      "source": [
        "# Generate classification report\n",
        "print(\"Classification Report:\")\n",
        "print(classification_report(y_test, test_predictions))\n",
        "\n",
        "# Generate confusion matrix\n",
        "print(\"Confusion Matrix:\")\n",
        "print(confusion_matrix(y_test, test_predictions))"
      ],
      "metadata": {
        "colab": {
          "base_uri": "https://localhost:8080/"
        },
        "id": "-zmhZn_2ikck",
        "outputId": "7a463edc-d738-4098-8d82-b63984a2ec96"
      },
      "execution_count": 12,
      "outputs": [
        {
          "output_type": "stream",
          "name": "stdout",
          "text": [
            "Classification Report:\n",
            "              precision    recall  f1-score   support\n",
            "\n",
            "           0       0.95      0.93      0.94       386\n",
            "           1       0.94      0.96      0.95       433\n",
            "\n",
            "    accuracy                           0.95       819\n",
            "   macro avg       0.95      0.95      0.95       819\n",
            "weighted avg       0.95      0.95      0.95       819\n",
            "\n",
            "Confusion Matrix:\n",
            "[[359  27]\n",
            " [ 17 416]]\n"
          ]
        }
      ]
    },
    {
      "cell_type": "markdown",
      "source": [
        "## Random Forest Classifier"
      ],
      "metadata": {
        "id": "85zG43UXeUGp"
      }
    },
    {
      "cell_type": "code",
      "source": [
        "# Initialize Random Forest classifier\n",
        "rf = RandomForestClassifier(random_state=42)\n",
        "\n",
        "# Define parameter grid for RandomizedSearchCV\n",
        "param_dist = {\n",
        "    'n_estimators': randint(10, 100),\n",
        "    'max_depth': randint(2, 50),\n",
        "    'min_samples_split': randint(2, 11),\n",
        "    'min_samples_leaf': randint(1, 11)\n",
        "}\n",
        "\n",
        "# Initialize RandomizedSearchCV\n",
        "random_search = RandomizedSearchCV(estimator=rf, param_distributions=param_dist,\n",
        "                                   n_iter=100, cv=3, scoring='accuracy', n_jobs=-1, random_state=42)\n",
        "\n",
        "# Train classifier with random search\n",
        "random_search.fit(X_train, y_train)\n",
        "\n",
        "# Best parameters from random search\n",
        "best_params = random_search.best_params_\n",
        "print(f'Best Parameters: {best_params}')\n",
        "\n",
        "# Predict and evaluate with the best estimator\n",
        "best_rf = random_search.best_estimator_\n",
        "train_predictions = best_rf.predict(X_train)\n",
        "test_predictions = best_rf.predict(X_test)\n",
        "\n",
        "train_accuracy = accuracy_score(y_train, train_predictions)\n",
        "test_accuracy = accuracy_score(y_test, test_predictions)\n",
        "\n",
        "print(f'Training Accuracy: {train_accuracy * 100:.2f}%')\n",
        "print(f'Testing Accuracy: {test_accuracy * 100:.2f}%')\n"
      ],
      "metadata": {
        "colab": {
          "base_uri": "https://localhost:8080/"
        },
        "id": "v19hysCydk8a",
        "outputId": "a4ab1e70-5044-4b73-8205-742463ef9918"
      },
      "execution_count": 13,
      "outputs": [
        {
          "output_type": "stream",
          "name": "stdout",
          "text": [
            "Best Parameters: {'max_depth': 27, 'min_samples_leaf': 5, 'min_samples_split': 3, 'n_estimators': 93}\n",
            "Training Accuracy: 99.85%\n",
            "Testing Accuracy: 91.21%\n"
          ]
        }
      ]
    },
    {
      "cell_type": "code",
      "source": [
        "# Generate classification report\n",
        "print(\"Classification Report:\")\n",
        "print(classification_report(y_test, test_predictions))\n",
        "\n",
        "# Generate confusion matrix\n",
        "print(\"Confusion Matrix:\")\n",
        "print(confusion_matrix(y_test, test_predictions))"
      ],
      "metadata": {
        "colab": {
          "base_uri": "https://localhost:8080/"
        },
        "id": "TpHh1ZbNizRI",
        "outputId": "f70e08d4-0474-419e-a78f-c1f0c7d33658"
      },
      "execution_count": 14,
      "outputs": [
        {
          "output_type": "stream",
          "name": "stdout",
          "text": [
            "Classification Report:\n",
            "              precision    recall  f1-score   support\n",
            "\n",
            "           0       0.96      0.85      0.90       386\n",
            "           1       0.88      0.97      0.92       433\n",
            "\n",
            "    accuracy                           0.91       819\n",
            "   macro avg       0.92      0.91      0.91       819\n",
            "weighted avg       0.92      0.91      0.91       819\n",
            "\n",
            "Confusion Matrix:\n",
            "[[329  57]\n",
            " [ 15 418]]\n"
          ]
        }
      ]
    },
    {
      "cell_type": "markdown",
      "source": [
        "## ANN"
      ],
      "metadata": {
        "id": "s4WDKc3srPrs"
      }
    },
    {
      "cell_type": "code",
      "source": [
        "# Convert labels to categorical\n",
        "y_train_cat = to_categorical(y_train)\n",
        "y_test_cat = to_categorical(y_test)\n",
        "\n",
        "# Define ANN model\n",
        "def create_ann_model():\n",
        "    model = Sequential([\n",
        "        Dense(64, input_dim=X_train.shape[1], activation='relu'),\n",
        "        Dropout(0.2),\n",
        "        Dense(64, activation='relu'),\n",
        "        Dropout(0.2),\n",
        "        Dense(32, activation='relu'),\n",
        "        Dropout(0.2),\n",
        "        Dense(2, activation='softmax')  # Binary classification\n",
        "    ])\n",
        "    model.compile(\n",
        "      loss='categorical_crossentropy',\n",
        "      optimizer='adam',\n",
        "      metrics=['accuracy', Precision(), Recall(), AUC()]\n",
        "  )\n",
        "    return model\n",
        "\n",
        "# Create and train the model\n",
        "model = create_ann_model()\n",
        "history = model.fit(X_train, y_train_cat, epochs=20, batch_size=32, validation_data=(X_test, y_test_cat), verbose=1)\n",
        "\n",
        "# Evaluate model on test data\n",
        "test_results = model.evaluate(X_test, y_test_cat, verbose=1)\n",
        "\n",
        "# Unpack results based on the number of metrics\n",
        "test_loss = test_results[0]  # Loss is always the first value\n",
        "test_accuracy = test_results[1]  # Accuracy (second value)\n",
        "test_precision = test_results[2]  # Precision\n",
        "test_recall = test_results[3]  # Recall\n",
        "test_auc = test_results[4]  # AUC\n",
        "\n",
        "# Print results\n",
        "print(f'Test Accuracy: {test_accuracy * 100:.2f}%')\n",
        "print(f'Test Precision: {test_precision * 100:.2f}%')\n",
        "print(f'Test Recall: {test_recall * 100:.2f}%')\n",
        "print(f'Test AUC: {test_auc:.4f}')\n",
        "\n"
      ],
      "metadata": {
        "colab": {
          "base_uri": "https://localhost:8080/"
        },
        "id": "bkHP-IO3ppka",
        "outputId": "e4ac7992-2906-4142-a404-19775cef52c3"
      },
      "execution_count": 25,
      "outputs": [
        {
          "output_type": "stream",
          "name": "stdout",
          "text": [
            "Epoch 1/20\n",
            "\u001b[1m103/103\u001b[0m \u001b[32m━━━━━━━━━━━━━━━━━━━━\u001b[0m\u001b[37m\u001b[0m \u001b[1m7s\u001b[0m 18ms/step - accuracy: 0.7646 - auc_2: 0.8417 - loss: 0.5023 - precision_2: 0.7646 - recall_2: 0.7646 - val_accuracy: 0.9182 - val_auc_2: 0.9773 - val_loss: 0.1973 - val_precision_2: 0.9182 - val_recall_2: 0.9182\n",
            "Epoch 2/20\n",
            "\u001b[1m103/103\u001b[0m \u001b[32m━━━━━━━━━━━━━━━━━━━━\u001b[0m\u001b[37m\u001b[0m \u001b[1m2s\u001b[0m 12ms/step - accuracy: 0.9176 - auc_2: 0.9754 - loss: 0.2002 - precision_2: 0.9176 - recall_2: 0.9176 - val_accuracy: 0.9292 - val_auc_2: 0.9787 - val_loss: 0.1886 - val_precision_2: 0.9292 - val_recall_2: 0.9292\n",
            "Epoch 3/20\n",
            "\u001b[1m103/103\u001b[0m \u001b[32m━━━━━━━━━━━━━━━━━━━━\u001b[0m\u001b[37m\u001b[0m \u001b[1m1s\u001b[0m 12ms/step - accuracy: 0.9465 - auc_2: 0.9880 - loss: 0.1381 - precision_2: 0.9465 - recall_2: 0.9465 - val_accuracy: 0.9463 - val_auc_2: 0.9867 - val_loss: 0.1513 - val_precision_2: 0.9463 - val_recall_2: 0.9463\n",
            "Epoch 4/20\n",
            "\u001b[1m103/103\u001b[0m \u001b[32m━━━━━━━━━━━━━━━━━━━━\u001b[0m\u001b[37m\u001b[0m \u001b[1m1s\u001b[0m 11ms/step - accuracy: 0.9674 - auc_2: 0.9945 - loss: 0.0896 - precision_2: 0.9674 - recall_2: 0.9674 - val_accuracy: 0.9475 - val_auc_2: 0.9857 - val_loss: 0.1585 - val_precision_2: 0.9475 - val_recall_2: 0.9475\n",
            "Epoch 5/20\n",
            "\u001b[1m103/103\u001b[0m \u001b[32m━━━━━━━━━━━━━━━━━━━━\u001b[0m\u001b[37m\u001b[0m \u001b[1m1s\u001b[0m 12ms/step - accuracy: 0.9771 - auc_2: 0.9957 - loss: 0.0718 - precision_2: 0.9771 - recall_2: 0.9771 - val_accuracy: 0.9414 - val_auc_2: 0.9840 - val_loss: 0.1694 - val_precision_2: 0.9414 - val_recall_2: 0.9414\n",
            "Epoch 6/20\n",
            "\u001b[1m103/103\u001b[0m \u001b[32m━━━━━━━━━━━━━━━━━━━━\u001b[0m\u001b[37m\u001b[0m \u001b[1m1s\u001b[0m 12ms/step - accuracy: 0.9879 - auc_2: 0.9981 - loss: 0.0371 - precision_2: 0.9879 - recall_2: 0.9879 - val_accuracy: 0.9451 - val_auc_2: 0.9833 - val_loss: 0.1764 - val_precision_2: 0.9451 - val_recall_2: 0.9451\n",
            "Epoch 7/20\n",
            "\u001b[1m103/103\u001b[0m \u001b[32m━━━━━━━━━━━━━━━━━━━━\u001b[0m\u001b[37m\u001b[0m \u001b[1m2s\u001b[0m 18ms/step - accuracy: 0.9857 - auc_2: 0.9985 - loss: 0.0417 - precision_2: 0.9857 - recall_2: 0.9857 - val_accuracy: 0.9304 - val_auc_2: 0.9810 - val_loss: 0.1950 - val_precision_2: 0.9304 - val_recall_2: 0.9304\n",
            "Epoch 8/20\n",
            "\u001b[1m103/103\u001b[0m \u001b[32m━━━━━━━━━━━━━━━━━━━━\u001b[0m\u001b[37m\u001b[0m \u001b[1m2s\u001b[0m 11ms/step - accuracy: 0.9884 - auc_2: 0.9990 - loss: 0.0310 - precision_2: 0.9884 - recall_2: 0.9884 - val_accuracy: 0.9426 - val_auc_2: 0.9788 - val_loss: 0.2160 - val_precision_2: 0.9426 - val_recall_2: 0.9426\n",
            "Epoch 9/20\n",
            "\u001b[1m103/103\u001b[0m \u001b[32m━━━━━━━━━━━━━━━━━━━━\u001b[0m\u001b[37m\u001b[0m \u001b[1m1s\u001b[0m 11ms/step - accuracy: 0.9838 - auc_2: 0.9987 - loss: 0.0443 - precision_2: 0.9838 - recall_2: 0.9838 - val_accuracy: 0.9255 - val_auc_2: 0.9736 - val_loss: 0.2626 - val_precision_2: 0.9255 - val_recall_2: 0.9255\n",
            "Epoch 10/20\n",
            "\u001b[1m103/103\u001b[0m \u001b[32m━━━━━━━━━━━━━━━━━━━━\u001b[0m\u001b[37m\u001b[0m \u001b[1m1s\u001b[0m 11ms/step - accuracy: 0.9917 - auc_2: 0.9984 - loss: 0.0302 - precision_2: 0.9917 - recall_2: 0.9917 - val_accuracy: 0.9280 - val_auc_2: 0.9700 - val_loss: 0.2762 - val_precision_2: 0.9280 - val_recall_2: 0.9280\n",
            "Epoch 11/20\n",
            "\u001b[1m103/103\u001b[0m \u001b[32m━━━━━━━━━━━━━━━━━━━━\u001b[0m\u001b[37m\u001b[0m \u001b[1m1s\u001b[0m 11ms/step - accuracy: 0.9908 - auc_2: 0.9981 - loss: 0.0351 - precision_2: 0.9908 - recall_2: 0.9908 - val_accuracy: 0.9280 - val_auc_2: 0.9766 - val_loss: 0.2713 - val_precision_2: 0.9280 - val_recall_2: 0.9280\n",
            "Epoch 12/20\n",
            "\u001b[1m103/103\u001b[0m \u001b[32m━━━━━━━━━━━━━━━━━━━━\u001b[0m\u001b[37m\u001b[0m \u001b[1m1s\u001b[0m 12ms/step - accuracy: 0.9932 - auc_2: 0.9996 - loss: 0.0178 - precision_2: 0.9932 - recall_2: 0.9932 - val_accuracy: 0.9328 - val_auc_2: 0.9690 - val_loss: 0.3003 - val_precision_2: 0.9328 - val_recall_2: 0.9328\n",
            "Epoch 13/20\n",
            "\u001b[1m103/103\u001b[0m \u001b[32m━━━━━━━━━━━━━━━━━━━━\u001b[0m\u001b[37m\u001b[0m \u001b[1m1s\u001b[0m 12ms/step - accuracy: 0.9931 - auc_2: 0.9997 - loss: 0.0184 - precision_2: 0.9931 - recall_2: 0.9931 - val_accuracy: 0.9255 - val_auc_2: 0.9652 - val_loss: 0.3760 - val_precision_2: 0.9255 - val_recall_2: 0.9255\n",
            "Epoch 14/20\n",
            "\u001b[1m103/103\u001b[0m \u001b[32m━━━━━━━━━━━━━━━━━━━━\u001b[0m\u001b[37m\u001b[0m \u001b[1m1s\u001b[0m 11ms/step - accuracy: 0.9935 - auc_2: 0.9982 - loss: 0.0248 - precision_2: 0.9935 - recall_2: 0.9935 - val_accuracy: 0.9158 - val_auc_2: 0.9655 - val_loss: 0.3202 - val_precision_2: 0.9158 - val_recall_2: 0.9158\n",
            "Epoch 15/20\n",
            "\u001b[1m103/103\u001b[0m \u001b[32m━━━━━━━━━━━━━━━━━━━━\u001b[0m\u001b[37m\u001b[0m \u001b[1m1s\u001b[0m 13ms/step - accuracy: 0.9866 - auc_2: 0.9981 - loss: 0.0347 - precision_2: 0.9866 - recall_2: 0.9866 - val_accuracy: 0.9414 - val_auc_2: 0.9678 - val_loss: 0.2937 - val_precision_2: 0.9414 - val_recall_2: 0.9414\n",
            "Epoch 16/20\n",
            "\u001b[1m103/103\u001b[0m \u001b[32m━━━━━━━━━━━━━━━━━━━━\u001b[0m\u001b[37m\u001b[0m \u001b[1m2s\u001b[0m 18ms/step - accuracy: 0.9923 - auc_2: 0.9979 - loss: 0.0363 - precision_2: 0.9923 - recall_2: 0.9923 - val_accuracy: 0.9328 - val_auc_2: 0.9726 - val_loss: 0.2711 - val_precision_2: 0.9328 - val_recall_2: 0.9328\n",
            "Epoch 17/20\n",
            "\u001b[1m103/103\u001b[0m \u001b[32m━━━━━━━━━━━━━━━━━━━━\u001b[0m\u001b[37m\u001b[0m \u001b[1m1s\u001b[0m 13ms/step - accuracy: 0.9923 - auc_2: 0.9998 - loss: 0.0184 - precision_2: 0.9923 - recall_2: 0.9923 - val_accuracy: 0.9316 - val_auc_2: 0.9708 - val_loss: 0.2971 - val_precision_2: 0.9316 - val_recall_2: 0.9316\n",
            "Epoch 18/20\n",
            "\u001b[1m103/103\u001b[0m \u001b[32m━━━━━━━━━━━━━━━━━━━━\u001b[0m\u001b[37m\u001b[0m \u001b[1m1s\u001b[0m 11ms/step - accuracy: 0.9955 - auc_2: 0.9999 - loss: 0.0125 - precision_2: 0.9955 - recall_2: 0.9955 - val_accuracy: 0.9426 - val_auc_2: 0.9727 - val_loss: 0.2906 - val_precision_2: 0.9426 - val_recall_2: 0.9426\n",
            "Epoch 19/20\n",
            "\u001b[1m103/103\u001b[0m \u001b[32m━━━━━━━━━━━━━━━━━━━━\u001b[0m\u001b[37m\u001b[0m \u001b[1m1s\u001b[0m 11ms/step - accuracy: 0.9996 - auc_2: 1.0000 - loss: 0.0043 - precision_2: 0.9996 - recall_2: 0.9996 - val_accuracy: 0.9389 - val_auc_2: 0.9707 - val_loss: 0.2897 - val_precision_2: 0.9389 - val_recall_2: 0.9389\n",
            "Epoch 20/20\n",
            "\u001b[1m103/103\u001b[0m \u001b[32m━━━━━━━━━━━━━━━━━━━━\u001b[0m\u001b[37m\u001b[0m \u001b[1m1s\u001b[0m 11ms/step - accuracy: 0.9995 - auc_2: 0.9999 - loss: 0.0034 - precision_2: 0.9995 - recall_2: 0.9995 - val_accuracy: 0.9402 - val_auc_2: 0.9712 - val_loss: 0.2986 - val_precision_2: 0.9402 - val_recall_2: 0.9402\n",
            "\u001b[1m26/26\u001b[0m \u001b[32m━━━━━━━━━━━━━━━━━━━━\u001b[0m\u001b[37m\u001b[0m \u001b[1m0s\u001b[0m 5ms/step - accuracy: 0.9447 - auc_2: 0.9680 - loss: 0.3004 - precision_2: 0.9447 - recall_2: 0.9447\n",
            "Test Accuracy: 94.02%\n",
            "Test Precision: 94.02%\n",
            "Test Recall: 94.02%\n",
            "Test AUC: 0.9712\n"
          ]
        }
      ]
    },
    {
      "cell_type": "code",
      "source": [],
      "metadata": {
        "id": "RswZ1UnruLZ2"
      },
      "execution_count": 20,
      "outputs": []
    }
  ]
}
